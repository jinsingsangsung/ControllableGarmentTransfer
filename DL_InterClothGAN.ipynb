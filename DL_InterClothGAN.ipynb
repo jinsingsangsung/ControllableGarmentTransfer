{
  "cells": [
    {
      "cell_type": "markdown",
      "metadata": {
        "id": "view-in-github",
        "colab_type": "text"
      },
      "source": [
        "<a href=\"https://colab.research.google.com/github/jinsingsangsung/ControllableGarmentTransfer/blob/master/DL_InterClothGAN.ipynb\" target=\"_parent\"><img src=\"https://colab.research.google.com/assets/colab-badge.svg\" alt=\"Open In Colab\"/></a>"
      ]
    },
    {
      "cell_type": "markdown",
      "source": [
        "#InterClothGAN"
      ],
      "metadata": {
        "id": "FBMRJvnvsVLJ"
      }
    },
    {
      "cell_type": "markdown",
      "source": [
        "#intro\n",
        "InterClothGAN is an application of the paper ['Interpreting the Latent Space of GANs for Semantic Face Editing'](https://arxiv.org/pdf/1907.10786.pdf) in a different domain, fasion. The original project page can be found [here](https://genforce.github.io/interfacegan/). This code is inpired and edited from [interFaceGan's colab notebook](https://colab.research.google.com/github/genforce/interfacegan/blob/master/docs/InterFaceGAN.ipynb#scrollTo=ijKTlG5GeTd3 )."
      ],
      "metadata": {
        "id": "Q0Ip2HvsrixK"
      }
    },
    {
      "cell_type": "code",
      "source": [
        "!git clone https://github.com/tcabezon/InterClothGAN.git"
      ],
      "metadata": {
        "id": "m_3E7ZJrlVDn"
      },
      "execution_count": null,
      "outputs": []
    },
    {
      "cell_type": "code",
      "source": [
        "cd InterClothGAN/"
      ],
      "metadata": {
        "id": "4xrdQdH64uJc"
      },
      "execution_count": null,
      "outputs": []
    },
    {
      "cell_type": "code",
      "execution_count": null,
      "metadata": {
        "id": "HdST52JgV6Pe"
      },
      "outputs": [],
      "source": [
        "!wget https://www.dropbox.com/s/yy0lh3pnje4tb5c/viton10k-005000_pytorch.pth?dl=0 -O models/pretrain/viton10k-005000_pytorch.pth --quiet"
      ]
    },
    {
      "cell_type": "markdown",
      "source": [
        "#code"
      ],
      "metadata": {
        "id": "yZ8vBlmRskNz"
      }
    },
    {
      "cell_type": "markdown",
      "metadata": {
        "id": "Q7gkmrVW8eR1"
      },
      "source": [
        "> Load Model\n",
        "\n",
        "\n",
        "\n"
      ]
    },
    {
      "cell_type": "code",
      "execution_count": null,
      "metadata": {
        "colab": {
          "base_uri": "https://localhost:8080/"
        },
        "id": "IFi7e2Q76CMR",
        "outputId": "76c3a973-6414-47cb-a670-36ade797cef1"
      },
      "outputs": [
        {
          "output_type": "stream",
          "name": "stdout",
          "text": [
            "[2022-04-30 19:05:52,348][INFO] Loading pytorch model from `models/pretrain/viton10k-005000_pytorch.pth`.\n",
            "[2022-04-30 19:05:52,657][INFO] Successfully loaded!\n",
            "[2022-04-30 19:05:52,658][INFO]   `lod` of the loaded model is 0.0.\n"
          ]
        }
      ],
      "source": [
        "#@title { display-mode: \"form\", run: \"auto\" }\n",
        "\n",
        "import os.path\n",
        "import io\n",
        "import IPython.display\n",
        "import numpy as np\n",
        "import cv2\n",
        "import PIL.Image\n",
        "\n",
        "import torch\n",
        "\n",
        "from models.model_settings import MODEL_POOL\n",
        "from models.pggan_generator import PGGANGenerator\n",
        "from models.stylegan_generator import StyleGANGenerator\n",
        "from utils.manipulator import linear_interpolate\n",
        "\n",
        "def sample_codes(generator, num, latent_space_type='Z', seed=0):\n",
        "  \"\"\"Samples latent codes randomly.\"\"\"\n",
        "  np.random.seed(seed) #to be able to reproduce results\n",
        "  codes = generator.easy_sample(num)\n",
        "  if generator.gan_type == 'stylegan' and latent_space_type == 'W':\n",
        "    codes = torch.from_numpy(codes).type(torch.FloatTensor).to(generator.run_device)\n",
        "    codes = generator.get_value(generator.model.mapping(codes))\n",
        "  return codes\n",
        "\n",
        "\n",
        "def imshow(images, col, viz_size=256):\n",
        "  \"\"\"Shows images in one figure.\"\"\"\n",
        "  num, height, width, channels = images.shape\n",
        "  assert num % col == 0\n",
        "  row = num // col\n",
        "\n",
        "  fused_image = np.zeros((viz_size * row, viz_size * col, channels), dtype=np.uint8)\n",
        "\n",
        "  for idx, image in enumerate(images):\n",
        "    i, j = divmod(idx, col)\n",
        "    y = i * viz_size\n",
        "    x = j * viz_size\n",
        "    if height != viz_size or width != viz_size:\n",
        "      image = cv2.resize(image, (viz_size, viz_size))\n",
        "    fused_image[y:y + viz_size, x:x + viz_size] = image\n",
        "\n",
        "  fused_image = np.asarray(fused_image, dtype=np.uint8)\n",
        "  data = io.BytesIO()\n",
        "  PIL.Image.fromarray(fused_image).save(data, 'jpeg')\n",
        "  im_data = data.getvalue()\n",
        "  disp = IPython.display.display(IPython.display.Image(im_data))\n",
        "\n",
        "\n",
        "model_name = \"stylegan_viton10k\" \n",
        "latent_space_type = \"W\" \n",
        "\n",
        "generator = StyleGANGenerator(model_name)\n",
        "\n",
        "ATTRS = ['sleeves','red','texture']\n",
        "boundaries = {}\n",
        "for i, attr_name in enumerate(ATTRS):\n",
        "  boundaries[attr_name] = np.load(f'viton10k_boundaries/{attr_name}.npy')"
      ]
    },
    {
      "cell_type": "markdown",
      "source": [
        "> Generate image"
      ],
      "metadata": {
        "id": "D8pWN-2upbwE"
      }
    },
    {
      "cell_type": "code",
      "execution_count": null,
      "metadata": {
        "colab": {
          "base_uri": "https://localhost:8080/",
          "height": 273
        },
        "id": "GSs4Ob156IRO",
        "outputId": "365bd6b2-0ce1-4a25-bc76-e690cb84b349"
      },
      "outputs": [
        {
          "output_type": "display_data",
          "data": {
            "text/plain": [
              "<IPython.core.display.Image object>"
            ],
            "image/jpeg": "[encoded data removed]"
          },
          "metadata": {}
        }
      ],
      "source": [
        "#@title { display-mode: \"form\", run: \"auto\" }\n",
        "\n",
        "num_samples = 2\n",
        "noise_seed = 522 #@param {type:\"slider\", min:44, max:1000, step:239}\n",
        "\n",
        "latent_codes = sample_codes(generator, num_samples, latent_space_type, noise_seed)[1,:]\n",
        "latent_codes =latent_codes [np.newaxis,:]\n",
        "num_samples = 1\n",
        "if generator.gan_type == 'stylegan' and latent_space_type == 'W':\n",
        "  synthesis_kwargs = {'latent_space_type': 'W'}\n",
        "else:\n",
        "  synthesis_kwargs = {}\n",
        "\n",
        "images = generator.easy_synthesize(latent_codes, **synthesis_kwargs)['image']\n",
        "imshow(images, col=num_samples)"
      ]
    },
    {
      "cell_type": "markdown",
      "source": [
        "> Edit image!"
      ],
      "metadata": {
        "id": "TRzir1VjpnRC"
      }
    },
    {
      "cell_type": "code",
      "execution_count": null,
      "metadata": {
        "id": "ccONBF60mVir",
        "colab": {
          "base_uri": "https://localhost:8080/",
          "height": 273
        },
        "outputId": "f51e16f1-d9e1-430c-d7b3-06b494a60e36"
      },
      "outputs": [
        {
          "output_type": "display_data",
          "data": {
            "text/plain": [
              "<IPython.core.display.Image object>"
            ],
            "image/jpeg": "[encoded data removed]"
          },
          "metadata": {}
        }
      ],
      "source": [
        "#@title { display-mode: \"form\", run: \"auto\" }\n",
        "\n",
        "sleeves = 1 #@param {type:\"slider\", min:-1.0, max:2.0, step:0.1}\n",
        "red = 1.5 #@param {type:\"slider\", min:-1.0, max:2.0, step:0.1}\n",
        "texture = 2.4 #@param {type:\"slider\", min:-3.0, max:5.0, step:0.1}\n",
        "\n",
        "\n",
        "new_codes = latent_codes.copy()\n",
        "for i, attr_name in enumerate(ATTRS):\n",
        "  new_codes += boundaries[attr_name] * eval(attr_name)\n",
        "\n",
        "new_images = generator.easy_synthesize(new_codes, **synthesis_kwargs)['image']\n",
        "imshow(new_images, col=num_samples)"
      ]
    },
    {
      "cell_type": "code",
      "source": [
        ""
      ],
      "metadata": {
        "id": "_ps1dsr_vzL_"
      },
      "execution_count": null,
      "outputs": []
    }
  ],
  "metadata": {
    "accelerator": "GPU",
    "colab": {
      "collapsed_sections": [],
      "name": "DL_InterClothGAN",
      "provenance": [],
      "include_colab_link": true
    },
    "kernelspec": {
      "display_name": "Python 3",
      "name": "python3"
    }
  },
  "nbformat": 4,
  "nbformat_minor": 0
}